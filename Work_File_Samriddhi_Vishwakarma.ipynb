{
 "cells": [
  {
   "cell_type": "markdown",
   "id": "a450e6e2-56ca-4ad6-8620-e96b401cadcb",
   "metadata": {},
   "source": [
    "##### Loading the required Libraries"
   ]
  },
  {
   "cell_type": "code",
   "execution_count": 1,
   "id": "a2d523dd-d079-4ef1-b608-46dfddd2c52e",
   "metadata": {},
   "outputs": [],
   "source": [
    "import numpy as np \n",
    "import pandas as pd\n",
    "import seaborn as sns\n",
    "import matplotlib.pyplot as plt\n",
    "from scipy import stats"
   ]
  },
  {
   "cell_type": "markdown",
   "id": "46dc9f89-30fa-4d22-b32f-5f224a7af11b",
   "metadata": {},
   "source": [
    "##### Loading the dataset"
   ]
  },
  {
   "cell_type": "code",
   "execution_count": 2,
   "id": "9cbfa57c-d3c3-4ff3-a720-7b9ae7e27488",
   "metadata": {},
   "outputs": [],
   "source": [
    "data = pd.read_csv(\"employee_experience_survey_data.csv\")"
   ]
  },
  {
   "cell_type": "markdown",
   "id": "3d7739ec-3ef5-4655-b8f1-80deef7177e4",
   "metadata": {},
   "source": [
    "##### Shape of the dataset"
   ]
  },
  {
   "cell_type": "code",
   "execution_count": 3,
   "id": "49f1732c-03bf-4f97-b7c5-2ad473b78f96",
   "metadata": {},
   "outputs": [
    {
     "data": {
      "text/plain": [
       "(15, 18)"
      ]
     },
     "execution_count": 3,
     "metadata": {},
     "output_type": "execute_result"
    }
   ],
   "source": [
    "data.shape"
   ]
  },
  {
   "cell_type": "markdown",
   "id": "94afac7a-725d-4aa7-b566-a0f4326f518c",
   "metadata": {},
   "source": [
    "##### Loading the first five obseravtion of data"
   ]
  },
  {
   "cell_type": "code",
   "execution_count": 4,
   "id": "9fe18d03-eca5-46f9-80c7-58a2044087b0",
   "metadata": {},
   "outputs": [
    {
     "data": {
      "text/html": [
       "<div>\n",
       "<style scoped>\n",
       "    .dataframe tbody tr th:only-of-type {\n",
       "        vertical-align: middle;\n",
       "    }\n",
       "\n",
       "    .dataframe tbody tr th {\n",
       "        vertical-align: top;\n",
       "    }\n",
       "\n",
       "    .dataframe thead th {\n",
       "        text-align: right;\n",
       "    }\n",
       "</style>\n",
       "<table border=\"1\" class=\"dataframe\">\n",
       "  <thead>\n",
       "    <tr style=\"text-align: right;\">\n",
       "      <th></th>\n",
       "      <th>Name</th>\n",
       "      <th>Age Bracket</th>\n",
       "      <th>Gender</th>\n",
       "      <th>Ethnicity</th>\n",
       "      <th>Job Title</th>\n",
       "      <th>Department</th>\n",
       "      <th>Date Survey Completed</th>\n",
       "      <th>Job Satisfaction</th>\n",
       "      <th>Work-Life Balance</th>\n",
       "      <th>Management Support</th>\n",
       "      <th>Team Collaboration</th>\n",
       "      <th>Workload Fairness</th>\n",
       "      <th>Career Development Opportunities</th>\n",
       "      <th>Workplace Inclusivity</th>\n",
       "      <th>Company Communication</th>\n",
       "      <th>Compensation Satisfaction</th>\n",
       "      <th>Job Security</th>\n",
       "      <th>Overall Engagement</th>\n",
       "    </tr>\n",
       "  </thead>\n",
       "  <tbody>\n",
       "    <tr>\n",
       "      <th>0</th>\n",
       "      <td>John Doe</td>\n",
       "      <td>25-34</td>\n",
       "      <td>Female</td>\n",
       "      <td>Asian</td>\n",
       "      <td>Product Manager</td>\n",
       "      <td>Product Development</td>\n",
       "      <td>10/5/2024</td>\n",
       "      <td>Disagree</td>\n",
       "      <td>Strongly Agree</td>\n",
       "      <td>Neutral</td>\n",
       "      <td>Neutral</td>\n",
       "      <td>Neutral</td>\n",
       "      <td>Disagree</td>\n",
       "      <td>Agree</td>\n",
       "      <td>Strongly Agree</td>\n",
       "      <td>Strongly Agree</td>\n",
       "      <td>Agree</td>\n",
       "      <td>Strongly Agree</td>\n",
       "    </tr>\n",
       "    <tr>\n",
       "      <th>1</th>\n",
       "      <td>Jane Smith</td>\n",
       "      <td>18-24</td>\n",
       "      <td>Female</td>\n",
       "      <td>Middle Eastern</td>\n",
       "      <td>Operations Manager</td>\n",
       "      <td>Sales</td>\n",
       "      <td>10/7/2024</td>\n",
       "      <td>Agree</td>\n",
       "      <td>Strongly Disagree</td>\n",
       "      <td>Strongly Agree</td>\n",
       "      <td>Neutral</td>\n",
       "      <td>Neutral</td>\n",
       "      <td>Disagree</td>\n",
       "      <td>Neutral</td>\n",
       "      <td>Neutral</td>\n",
       "      <td>Neutral</td>\n",
       "      <td>Agree</td>\n",
       "      <td>Neutral</td>\n",
       "    </tr>\n",
       "    <tr>\n",
       "      <th>2</th>\n",
       "      <td>Carlos Reyes</td>\n",
       "      <td>45-54</td>\n",
       "      <td>Female</td>\n",
       "      <td>Indian</td>\n",
       "      <td>UX Designer</td>\n",
       "      <td>Consulting</td>\n",
       "      <td>10/8/2024</td>\n",
       "      <td>Neutral</td>\n",
       "      <td>Strongly Disagree</td>\n",
       "      <td>Agree</td>\n",
       "      <td>Disagree</td>\n",
       "      <td>Strongly Agree</td>\n",
       "      <td>Agree</td>\n",
       "      <td>Agree</td>\n",
       "      <td>Strongly Disagree</td>\n",
       "      <td>Neutral</td>\n",
       "      <td>Strongly Agree</td>\n",
       "      <td>Strongly Agree</td>\n",
       "    </tr>\n",
       "    <tr>\n",
       "      <th>3</th>\n",
       "      <td>Emily Zhang</td>\n",
       "      <td>35-44</td>\n",
       "      <td>Male</td>\n",
       "      <td>Caucasian</td>\n",
       "      <td>UX Designer</td>\n",
       "      <td>HR</td>\n",
       "      <td>10/7/2024</td>\n",
       "      <td>Neutral</td>\n",
       "      <td>Agree</td>\n",
       "      <td>Agree</td>\n",
       "      <td>Strongly Disagree</td>\n",
       "      <td>Strongly Disagree</td>\n",
       "      <td>Strongly Agree</td>\n",
       "      <td>Agree</td>\n",
       "      <td>Strongly Disagree</td>\n",
       "      <td>Strongly Disagree</td>\n",
       "      <td>Agree</td>\n",
       "      <td>Neutral</td>\n",
       "    </tr>\n",
       "    <tr>\n",
       "      <th>4</th>\n",
       "      <td>Michael Johnson</td>\n",
       "      <td>18-24</td>\n",
       "      <td>Female</td>\n",
       "      <td>Caucasian</td>\n",
       "      <td>UX Designer</td>\n",
       "      <td>Product Development</td>\n",
       "      <td>10/7/2024</td>\n",
       "      <td>Agree</td>\n",
       "      <td>Strongly Agree</td>\n",
       "      <td>Disagree</td>\n",
       "      <td>Neutral</td>\n",
       "      <td>Strongly Disagree</td>\n",
       "      <td>Disagree</td>\n",
       "      <td>Disagree</td>\n",
       "      <td>Disagree</td>\n",
       "      <td>Strongly Disagree</td>\n",
       "      <td>Neutral</td>\n",
       "      <td>Disagree</td>\n",
       "    </tr>\n",
       "  </tbody>\n",
       "</table>\n",
       "</div>"
      ],
      "text/plain": [
       "              Name Age Bracket  Gender       Ethnicity           Job Title  \\\n",
       "0         John Doe       25-34  Female           Asian     Product Manager   \n",
       "1       Jane Smith       18-24  Female  Middle Eastern  Operations Manager   \n",
       "2     Carlos Reyes       45-54  Female          Indian         UX Designer   \n",
       "3      Emily Zhang       35-44    Male       Caucasian         UX Designer   \n",
       "4  Michael Johnson       18-24  Female       Caucasian         UX Designer   \n",
       "\n",
       "            Department Date Survey Completed Job Satisfaction  \\\n",
       "0  Product Development             10/5/2024         Disagree   \n",
       "1                Sales             10/7/2024            Agree   \n",
       "2           Consulting             10/8/2024          Neutral   \n",
       "3                   HR             10/7/2024          Neutral   \n",
       "4  Product Development             10/7/2024            Agree   \n",
       "\n",
       "   Work-Life Balance Management Support Team Collaboration  Workload Fairness  \\\n",
       "0     Strongly Agree            Neutral            Neutral            Neutral   \n",
       "1  Strongly Disagree     Strongly Agree            Neutral            Neutral   \n",
       "2  Strongly Disagree              Agree           Disagree     Strongly Agree   \n",
       "3              Agree              Agree  Strongly Disagree  Strongly Disagree   \n",
       "4     Strongly Agree           Disagree            Neutral  Strongly Disagree   \n",
       "\n",
       "  Career Development Opportunities Workplace Inclusivity  \\\n",
       "0                         Disagree                 Agree   \n",
       "1                         Disagree               Neutral   \n",
       "2                            Agree                 Agree   \n",
       "3                   Strongly Agree                 Agree   \n",
       "4                         Disagree              Disagree   \n",
       "\n",
       "  Company Communication Compensation Satisfaction    Job Security  \\\n",
       "0        Strongly Agree            Strongly Agree           Agree   \n",
       "1               Neutral                   Neutral           Agree   \n",
       "2     Strongly Disagree                   Neutral  Strongly Agree   \n",
       "3     Strongly Disagree         Strongly Disagree           Agree   \n",
       "4              Disagree         Strongly Disagree         Neutral   \n",
       "\n",
       "  Overall Engagement  \n",
       "0     Strongly Agree  \n",
       "1            Neutral  \n",
       "2     Strongly Agree  \n",
       "3            Neutral  \n",
       "4           Disagree  "
      ]
     },
     "execution_count": 4,
     "metadata": {},
     "output_type": "execute_result"
    }
   ],
   "source": [
    "data.head(5)"
   ]
  },
  {
   "cell_type": "markdown",
   "id": "70c4dbdf-7916-4708-8f4e-910a3d062a54",
   "metadata": {},
   "source": [
    "##### Getting the information about the dataset"
   ]
  },
  {
   "cell_type": "code",
   "execution_count": 5,
   "id": "a31c2aae-8a30-44ec-be67-09fd2b0ba721",
   "metadata": {},
   "outputs": [
    {
     "name": "stdout",
     "output_type": "stream",
     "text": [
      "<class 'pandas.core.frame.DataFrame'>\n",
      "RangeIndex: 15 entries, 0 to 14\n",
      "Data columns (total 18 columns):\n",
      " #   Column                            Non-Null Count  Dtype \n",
      "---  ------                            --------------  ----- \n",
      " 0   Name                              15 non-null     object\n",
      " 1   Age Bracket                       15 non-null     object\n",
      " 2   Gender                            15 non-null     object\n",
      " 3   Ethnicity                         15 non-null     object\n",
      " 4   Job Title                         15 non-null     object\n",
      " 5   Department                        15 non-null     object\n",
      " 6   Date Survey Completed             15 non-null     object\n",
      " 7   Job Satisfaction                  15 non-null     object\n",
      " 8   Work-Life Balance                 15 non-null     object\n",
      " 9   Management Support                15 non-null     object\n",
      " 10  Team Collaboration                15 non-null     object\n",
      " 11  Workload Fairness                 15 non-null     object\n",
      " 12  Career Development Opportunities  15 non-null     object\n",
      " 13  Workplace Inclusivity             15 non-null     object\n",
      " 14  Company Communication             15 non-null     object\n",
      " 15  Compensation Satisfaction         15 non-null     object\n",
      " 16  Job Security                      15 non-null     object\n",
      " 17  Overall Engagement                15 non-null     object\n",
      "dtypes: object(18)\n",
      "memory usage: 2.2+ KB\n"
     ]
    }
   ],
   "source": [
    "data.info()"
   ]
  },
  {
   "cell_type": "raw",
   "id": "7df910c8-966a-4890-b109-53588b51a438",
   "metadata": {},
   "source": [
    "- Dataset is consists of 18 variables and 15 entries.\n",
    "- There is no null value present in the dataset. \n",
    "- All the variables is of object datatype.  "
   ]
  },
  {
   "cell_type": "markdown",
   "id": "4c5d9638-675d-4a49-887e-9c02595fb980",
   "metadata": {},
   "source": [
    "##### Summary of the dataset: "
   ]
  },
  {
   "cell_type": "code",
   "execution_count": 6,
   "id": "2181d5e3-e75b-4cde-958f-0a9aa8e9e915",
   "metadata": {},
   "outputs": [
    {
     "data": {
      "text/html": [
       "<div>\n",
       "<style scoped>\n",
       "    .dataframe tbody tr th:only-of-type {\n",
       "        vertical-align: middle;\n",
       "    }\n",
       "\n",
       "    .dataframe tbody tr th {\n",
       "        vertical-align: top;\n",
       "    }\n",
       "\n",
       "    .dataframe thead th {\n",
       "        text-align: right;\n",
       "    }\n",
       "</style>\n",
       "<table border=\"1\" class=\"dataframe\">\n",
       "  <thead>\n",
       "    <tr style=\"text-align: right;\">\n",
       "      <th></th>\n",
       "      <th>count</th>\n",
       "      <th>unique</th>\n",
       "      <th>top</th>\n",
       "      <th>freq</th>\n",
       "    </tr>\n",
       "  </thead>\n",
       "  <tbody>\n",
       "    <tr>\n",
       "      <th>Age Bracket</th>\n",
       "      <td>15</td>\n",
       "      <td>4</td>\n",
       "      <td>18-24</td>\n",
       "      <td>7</td>\n",
       "    </tr>\n",
       "    <tr>\n",
       "      <th>Ethnicity</th>\n",
       "      <td>15</td>\n",
       "      <td>6</td>\n",
       "      <td>Middle Eastern</td>\n",
       "      <td>4</td>\n",
       "    </tr>\n",
       "    <tr>\n",
       "      <th>Job Title</th>\n",
       "      <td>15</td>\n",
       "      <td>8</td>\n",
       "      <td>UX Designer</td>\n",
       "      <td>4</td>\n",
       "    </tr>\n",
       "    <tr>\n",
       "      <th>Department</th>\n",
       "      <td>15</td>\n",
       "      <td>8</td>\n",
       "      <td>Sales</td>\n",
       "      <td>4</td>\n",
       "    </tr>\n",
       "    <tr>\n",
       "      <th>Date Survey Completed</th>\n",
       "      <td>15</td>\n",
       "      <td>7</td>\n",
       "      <td>10/7/2024</td>\n",
       "      <td>4</td>\n",
       "    </tr>\n",
       "    <tr>\n",
       "      <th>Job Satisfaction</th>\n",
       "      <td>15</td>\n",
       "      <td>5</td>\n",
       "      <td>Disagree</td>\n",
       "      <td>4</td>\n",
       "    </tr>\n",
       "    <tr>\n",
       "      <th>Work-Life Balance</th>\n",
       "      <td>15</td>\n",
       "      <td>5</td>\n",
       "      <td>Strongly Agree</td>\n",
       "      <td>5</td>\n",
       "    </tr>\n",
       "    <tr>\n",
       "      <th>Management Support</th>\n",
       "      <td>15</td>\n",
       "      <td>5</td>\n",
       "      <td>Strongly Disagree</td>\n",
       "      <td>5</td>\n",
       "    </tr>\n",
       "    <tr>\n",
       "      <th>Team Collaboration</th>\n",
       "      <td>15</td>\n",
       "      <td>5</td>\n",
       "      <td>Neutral</td>\n",
       "      <td>5</td>\n",
       "    </tr>\n",
       "    <tr>\n",
       "      <th>Workload Fairness</th>\n",
       "      <td>15</td>\n",
       "      <td>5</td>\n",
       "      <td>Neutral</td>\n",
       "      <td>5</td>\n",
       "    </tr>\n",
       "    <tr>\n",
       "      <th>Career Development Opportunities</th>\n",
       "      <td>15</td>\n",
       "      <td>5</td>\n",
       "      <td>Agree</td>\n",
       "      <td>6</td>\n",
       "    </tr>\n",
       "    <tr>\n",
       "      <th>Workplace Inclusivity</th>\n",
       "      <td>15</td>\n",
       "      <td>4</td>\n",
       "      <td>Neutral</td>\n",
       "      <td>5</td>\n",
       "    </tr>\n",
       "    <tr>\n",
       "      <th>Company Communication</th>\n",
       "      <td>15</td>\n",
       "      <td>5</td>\n",
       "      <td>Strongly Disagree</td>\n",
       "      <td>4</td>\n",
       "    </tr>\n",
       "    <tr>\n",
       "      <th>Compensation Satisfaction</th>\n",
       "      <td>15</td>\n",
       "      <td>5</td>\n",
       "      <td>Neutral</td>\n",
       "      <td>6</td>\n",
       "    </tr>\n",
       "    <tr>\n",
       "      <th>Job Security</th>\n",
       "      <td>15</td>\n",
       "      <td>5</td>\n",
       "      <td>Agree</td>\n",
       "      <td>7</td>\n",
       "    </tr>\n",
       "    <tr>\n",
       "      <th>Overall Engagement</th>\n",
       "      <td>15</td>\n",
       "      <td>5</td>\n",
       "      <td>Strongly Agree</td>\n",
       "      <td>4</td>\n",
       "    </tr>\n",
       "  </tbody>\n",
       "</table>\n",
       "</div>"
      ],
      "text/plain": [
       "                                 count unique                top freq\n",
       "Age Bracket                         15      4              18-24    7\n",
       "Ethnicity                           15      6     Middle Eastern    4\n",
       "Job Title                           15      8        UX Designer    4\n",
       "Department                          15      8              Sales    4\n",
       "Date Survey Completed               15      7          10/7/2024    4\n",
       "Job Satisfaction                    15      5           Disagree    4\n",
       "Work-Life Balance                   15      5     Strongly Agree    5\n",
       "Management Support                  15      5  Strongly Disagree    5\n",
       "Team Collaboration                  15      5            Neutral    5\n",
       "Workload Fairness                   15      5            Neutral    5\n",
       "Career Development Opportunities    15      5              Agree    6\n",
       "Workplace Inclusivity               15      4            Neutral    5\n",
       "Company Communication               15      5  Strongly Disagree    4\n",
       "Compensation Satisfaction           15      5            Neutral    6\n",
       "Job Security                        15      5              Agree    7\n",
       "Overall Engagement                  15      5     Strongly Agree    4"
      ]
     },
     "execution_count": 6,
     "metadata": {},
     "output_type": "execute_result"
    }
   ],
   "source": [
    "data.drop(columns=['Name','Gender']).describe().T"
   ]
  },
  {
   "cell_type": "markdown",
   "id": "41ba0c93-1bab-49f3-be98-d817e7de2baf",
   "metadata": {},
   "source": [
    "##### Extracting the demographic features from the dataset: "
   ]
  },
  {
   "cell_type": "code",
   "execution_count": 7,
   "id": "04bec3ed-a460-4ba2-928d-08c24474c800",
   "metadata": {},
   "outputs": [
    {
     "data": {
      "text/plain": [
       "Index(['Name', 'Age Bracket', 'Gender', 'Ethnicity', 'Job Title', 'Department',\n",
       "       'Date Survey Completed', 'Job Satisfaction', 'Work-Life Balance',\n",
       "       'Management Support', 'Team Collaboration', 'Workload Fairness',\n",
       "       'Career Development Opportunities', 'Workplace Inclusivity',\n",
       "       'Company Communication', 'Compensation Satisfaction', 'Job Security',\n",
       "       'Overall Engagement'],\n",
       "      dtype='object')"
      ]
     },
     "execution_count": 7,
     "metadata": {},
     "output_type": "execute_result"
    }
   ],
   "source": [
    "data.columns"
   ]
  },
  {
   "cell_type": "code",
   "execution_count": 8,
   "id": "7030b1db-06a6-496d-943c-77048948a541",
   "metadata": {},
   "outputs": [],
   "source": [
    "Demographic_feature = data[['Age Bracket', 'Gender', 'Ethnicity']]"
   ]
  },
  {
   "cell_type": "code",
   "execution_count": 9,
   "id": "f2592f5e-4a50-4003-958c-1f93bc7aaebf",
   "metadata": {},
   "outputs": [
    {
     "data": {
      "text/html": [
       "<div>\n",
       "<style scoped>\n",
       "    .dataframe tbody tr th:only-of-type {\n",
       "        vertical-align: middle;\n",
       "    }\n",
       "\n",
       "    .dataframe tbody tr th {\n",
       "        vertical-align: top;\n",
       "    }\n",
       "\n",
       "    .dataframe thead th {\n",
       "        text-align: right;\n",
       "    }\n",
       "</style>\n",
       "<table border=\"1\" class=\"dataframe\">\n",
       "  <thead>\n",
       "    <tr style=\"text-align: right;\">\n",
       "      <th></th>\n",
       "      <th>Name</th>\n",
       "      <th>Age Bracket</th>\n",
       "      <th>Gender</th>\n",
       "      <th>Ethnicity</th>\n",
       "      <th>Job Title</th>\n",
       "      <th>Department</th>\n",
       "      <th>Date Survey Completed</th>\n",
       "      <th>Job Satisfaction</th>\n",
       "      <th>Work-Life Balance</th>\n",
       "      <th>Management Support</th>\n",
       "      <th>Team Collaboration</th>\n",
       "      <th>Workload Fairness</th>\n",
       "      <th>Career Development Opportunities</th>\n",
       "      <th>Workplace Inclusivity</th>\n",
       "      <th>Company Communication</th>\n",
       "      <th>Compensation Satisfaction</th>\n",
       "      <th>Job Security</th>\n",
       "      <th>Overall Engagement</th>\n",
       "    </tr>\n",
       "  </thead>\n",
       "  <tbody>\n",
       "    <tr>\n",
       "      <th>0</th>\n",
       "      <td>John Doe</td>\n",
       "      <td>25-34</td>\n",
       "      <td>Female</td>\n",
       "      <td>Asian</td>\n",
       "      <td>Product Manager</td>\n",
       "      <td>Product Development</td>\n",
       "      <td>10/5/2024</td>\n",
       "      <td>Disagree</td>\n",
       "      <td>Strongly Agree</td>\n",
       "      <td>Neutral</td>\n",
       "      <td>Neutral</td>\n",
       "      <td>Neutral</td>\n",
       "      <td>Disagree</td>\n",
       "      <td>Agree</td>\n",
       "      <td>Strongly Agree</td>\n",
       "      <td>Strongly Agree</td>\n",
       "      <td>Agree</td>\n",
       "      <td>Strongly Agree</td>\n",
       "    </tr>\n",
       "    <tr>\n",
       "      <th>1</th>\n",
       "      <td>Jane Smith</td>\n",
       "      <td>18-24</td>\n",
       "      <td>Female</td>\n",
       "      <td>Middle Eastern</td>\n",
       "      <td>Operations Manager</td>\n",
       "      <td>Sales</td>\n",
       "      <td>10/7/2024</td>\n",
       "      <td>Agree</td>\n",
       "      <td>Strongly Disagree</td>\n",
       "      <td>Strongly Agree</td>\n",
       "      <td>Neutral</td>\n",
       "      <td>Neutral</td>\n",
       "      <td>Disagree</td>\n",
       "      <td>Neutral</td>\n",
       "      <td>Neutral</td>\n",
       "      <td>Neutral</td>\n",
       "      <td>Agree</td>\n",
       "      <td>Neutral</td>\n",
       "    </tr>\n",
       "    <tr>\n",
       "      <th>2</th>\n",
       "      <td>Carlos Reyes</td>\n",
       "      <td>45-54</td>\n",
       "      <td>Female</td>\n",
       "      <td>Indian</td>\n",
       "      <td>UX Designer</td>\n",
       "      <td>Consulting</td>\n",
       "      <td>10/8/2024</td>\n",
       "      <td>Neutral</td>\n",
       "      <td>Strongly Disagree</td>\n",
       "      <td>Agree</td>\n",
       "      <td>Disagree</td>\n",
       "      <td>Strongly Agree</td>\n",
       "      <td>Agree</td>\n",
       "      <td>Agree</td>\n",
       "      <td>Strongly Disagree</td>\n",
       "      <td>Neutral</td>\n",
       "      <td>Strongly Agree</td>\n",
       "      <td>Strongly Agree</td>\n",
       "    </tr>\n",
       "    <tr>\n",
       "      <th>3</th>\n",
       "      <td>Emily Zhang</td>\n",
       "      <td>35-44</td>\n",
       "      <td>Male</td>\n",
       "      <td>Caucasian</td>\n",
       "      <td>UX Designer</td>\n",
       "      <td>HR</td>\n",
       "      <td>10/7/2024</td>\n",
       "      <td>Neutral</td>\n",
       "      <td>Agree</td>\n",
       "      <td>Agree</td>\n",
       "      <td>Strongly Disagree</td>\n",
       "      <td>Strongly Disagree</td>\n",
       "      <td>Strongly Agree</td>\n",
       "      <td>Agree</td>\n",
       "      <td>Strongly Disagree</td>\n",
       "      <td>Strongly Disagree</td>\n",
       "      <td>Agree</td>\n",
       "      <td>Neutral</td>\n",
       "    </tr>\n",
       "    <tr>\n",
       "      <th>4</th>\n",
       "      <td>Michael Johnson</td>\n",
       "      <td>18-24</td>\n",
       "      <td>Female</td>\n",
       "      <td>Caucasian</td>\n",
       "      <td>UX Designer</td>\n",
       "      <td>Product Development</td>\n",
       "      <td>10/7/2024</td>\n",
       "      <td>Agree</td>\n",
       "      <td>Strongly Agree</td>\n",
       "      <td>Disagree</td>\n",
       "      <td>Neutral</td>\n",
       "      <td>Strongly Disagree</td>\n",
       "      <td>Disagree</td>\n",
       "      <td>Disagree</td>\n",
       "      <td>Disagree</td>\n",
       "      <td>Strongly Disagree</td>\n",
       "      <td>Neutral</td>\n",
       "      <td>Disagree</td>\n",
       "    </tr>\n",
       "  </tbody>\n",
       "</table>\n",
       "</div>"
      ],
      "text/plain": [
       "              Name Age Bracket  Gender       Ethnicity           Job Title  \\\n",
       "0         John Doe       25-34  Female           Asian     Product Manager   \n",
       "1       Jane Smith       18-24  Female  Middle Eastern  Operations Manager   \n",
       "2     Carlos Reyes       45-54  Female          Indian         UX Designer   \n",
       "3      Emily Zhang       35-44    Male       Caucasian         UX Designer   \n",
       "4  Michael Johnson       18-24  Female       Caucasian         UX Designer   \n",
       "\n",
       "            Department Date Survey Completed Job Satisfaction  \\\n",
       "0  Product Development             10/5/2024         Disagree   \n",
       "1                Sales             10/7/2024            Agree   \n",
       "2           Consulting             10/8/2024          Neutral   \n",
       "3                   HR             10/7/2024          Neutral   \n",
       "4  Product Development             10/7/2024            Agree   \n",
       "\n",
       "   Work-Life Balance Management Support Team Collaboration  Workload Fairness  \\\n",
       "0     Strongly Agree            Neutral            Neutral            Neutral   \n",
       "1  Strongly Disagree     Strongly Agree            Neutral            Neutral   \n",
       "2  Strongly Disagree              Agree           Disagree     Strongly Agree   \n",
       "3              Agree              Agree  Strongly Disagree  Strongly Disagree   \n",
       "4     Strongly Agree           Disagree            Neutral  Strongly Disagree   \n",
       "\n",
       "  Career Development Opportunities Workplace Inclusivity  \\\n",
       "0                         Disagree                 Agree   \n",
       "1                         Disagree               Neutral   \n",
       "2                            Agree                 Agree   \n",
       "3                   Strongly Agree                 Agree   \n",
       "4                         Disagree              Disagree   \n",
       "\n",
       "  Company Communication Compensation Satisfaction    Job Security  \\\n",
       "0        Strongly Agree            Strongly Agree           Agree   \n",
       "1               Neutral                   Neutral           Agree   \n",
       "2     Strongly Disagree                   Neutral  Strongly Agree   \n",
       "3     Strongly Disagree         Strongly Disagree           Agree   \n",
       "4              Disagree         Strongly Disagree         Neutral   \n",
       "\n",
       "  Overall Engagement  \n",
       "0     Strongly Agree  \n",
       "1            Neutral  \n",
       "2     Strongly Agree  \n",
       "3            Neutral  \n",
       "4           Disagree  "
      ]
     },
     "execution_count": 9,
     "metadata": {},
     "output_type": "execute_result"
    }
   ],
   "source": [
    "data.head()"
   ]
  },
  {
   "cell_type": "markdown",
   "id": "2045703a-0611-4250-95f7-db3fb9d9fedc",
   "metadata": {},
   "source": [
    "##### Mapping the responses: "
   ]
  },
  {
   "cell_type": "raw",
   "id": "6472c922-d818-41d2-9b1e-550c4f9f6c96",
   "metadata": {},
   "source": [
    "The responses ('Strongly Disagree': 1, 'Disagree': 2, 'Neutral': 3, 'Agree': 4,'Strongly Agree': 5) are qualitative in nature, meaning they represent subjective opinions and cannot be directly used in numerical calculations. In order to perform statistical analyses (e.g., calculating mean, standard deviation, or running hypothesis tests), we need to quantify these responses.\n"
   ]
  },
  {
   "cell_type": "code",
   "execution_count": 10,
   "id": "c1ce53bc-804d-4e25-a6a9-0689b3c1b64c",
   "metadata": {},
   "outputs": [],
   "source": [
    "map_responses = {'Strongly Disagree': 1, 'Disagree': 2, 'Neutral': 3, 'Agree': 4, 'Strongly Agree': 5}\n",
    "\n",
    "# Columns to be responses to be Map:\n",
    "\n",
    "df = ['Job Satisfaction', 'Work-Life Balance',\n",
    "       'Management Support', 'Team Collaboration', 'Workload Fairness',\n",
    "       'Career Development Opportunities', 'Workplace Inclusivity',\n",
    "       'Company Communication', 'Compensation Satisfaction', 'Job Security',\n",
    "       'Overall Engagement']\n",
    "\n",
    "for i in df:\n",
    "    data[i] = data[i].map(map_responses)"
   ]
  },
  {
   "cell_type": "code",
   "execution_count": 11,
   "id": "6f77bd65-d652-4d35-8ab5-0d777b67f67e",
   "metadata": {},
   "outputs": [
    {
     "data": {
      "text/html": [
       "<div>\n",
       "<style scoped>\n",
       "    .dataframe tbody tr th:only-of-type {\n",
       "        vertical-align: middle;\n",
       "    }\n",
       "\n",
       "    .dataframe tbody tr th {\n",
       "        vertical-align: top;\n",
       "    }\n",
       "\n",
       "    .dataframe thead th {\n",
       "        text-align: right;\n",
       "    }\n",
       "</style>\n",
       "<table border=\"1\" class=\"dataframe\">\n",
       "  <thead>\n",
       "    <tr style=\"text-align: right;\">\n",
       "      <th></th>\n",
       "      <th>Name</th>\n",
       "      <th>Age Bracket</th>\n",
       "      <th>Gender</th>\n",
       "      <th>Ethnicity</th>\n",
       "      <th>Job Title</th>\n",
       "      <th>Department</th>\n",
       "      <th>Date Survey Completed</th>\n",
       "      <th>Job Satisfaction</th>\n",
       "      <th>Work-Life Balance</th>\n",
       "      <th>Management Support</th>\n",
       "      <th>Team Collaboration</th>\n",
       "      <th>Workload Fairness</th>\n",
       "      <th>Career Development Opportunities</th>\n",
       "      <th>Workplace Inclusivity</th>\n",
       "      <th>Company Communication</th>\n",
       "      <th>Compensation Satisfaction</th>\n",
       "      <th>Job Security</th>\n",
       "      <th>Overall Engagement</th>\n",
       "    </tr>\n",
       "  </thead>\n",
       "  <tbody>\n",
       "    <tr>\n",
       "      <th>0</th>\n",
       "      <td>John Doe</td>\n",
       "      <td>25-34</td>\n",
       "      <td>Female</td>\n",
       "      <td>Asian</td>\n",
       "      <td>Product Manager</td>\n",
       "      <td>Product Development</td>\n",
       "      <td>10/5/2024</td>\n",
       "      <td>2</td>\n",
       "      <td>5</td>\n",
       "      <td>3</td>\n",
       "      <td>3</td>\n",
       "      <td>3</td>\n",
       "      <td>2</td>\n",
       "      <td>4</td>\n",
       "      <td>5</td>\n",
       "      <td>5</td>\n",
       "      <td>4</td>\n",
       "      <td>5</td>\n",
       "    </tr>\n",
       "    <tr>\n",
       "      <th>1</th>\n",
       "      <td>Jane Smith</td>\n",
       "      <td>18-24</td>\n",
       "      <td>Female</td>\n",
       "      <td>Middle Eastern</td>\n",
       "      <td>Operations Manager</td>\n",
       "      <td>Sales</td>\n",
       "      <td>10/7/2024</td>\n",
       "      <td>4</td>\n",
       "      <td>1</td>\n",
       "      <td>5</td>\n",
       "      <td>3</td>\n",
       "      <td>3</td>\n",
       "      <td>2</td>\n",
       "      <td>3</td>\n",
       "      <td>3</td>\n",
       "      <td>3</td>\n",
       "      <td>4</td>\n",
       "      <td>3</td>\n",
       "    </tr>\n",
       "    <tr>\n",
       "      <th>2</th>\n",
       "      <td>Carlos Reyes</td>\n",
       "      <td>45-54</td>\n",
       "      <td>Female</td>\n",
       "      <td>Indian</td>\n",
       "      <td>UX Designer</td>\n",
       "      <td>Consulting</td>\n",
       "      <td>10/8/2024</td>\n",
       "      <td>3</td>\n",
       "      <td>1</td>\n",
       "      <td>4</td>\n",
       "      <td>2</td>\n",
       "      <td>5</td>\n",
       "      <td>4</td>\n",
       "      <td>4</td>\n",
       "      <td>1</td>\n",
       "      <td>3</td>\n",
       "      <td>5</td>\n",
       "      <td>5</td>\n",
       "    </tr>\n",
       "    <tr>\n",
       "      <th>3</th>\n",
       "      <td>Emily Zhang</td>\n",
       "      <td>35-44</td>\n",
       "      <td>Male</td>\n",
       "      <td>Caucasian</td>\n",
       "      <td>UX Designer</td>\n",
       "      <td>HR</td>\n",
       "      <td>10/7/2024</td>\n",
       "      <td>3</td>\n",
       "      <td>4</td>\n",
       "      <td>4</td>\n",
       "      <td>1</td>\n",
       "      <td>1</td>\n",
       "      <td>5</td>\n",
       "      <td>4</td>\n",
       "      <td>1</td>\n",
       "      <td>1</td>\n",
       "      <td>4</td>\n",
       "      <td>3</td>\n",
       "    </tr>\n",
       "    <tr>\n",
       "      <th>4</th>\n",
       "      <td>Michael Johnson</td>\n",
       "      <td>18-24</td>\n",
       "      <td>Female</td>\n",
       "      <td>Caucasian</td>\n",
       "      <td>UX Designer</td>\n",
       "      <td>Product Development</td>\n",
       "      <td>10/7/2024</td>\n",
       "      <td>4</td>\n",
       "      <td>5</td>\n",
       "      <td>2</td>\n",
       "      <td>3</td>\n",
       "      <td>1</td>\n",
       "      <td>2</td>\n",
       "      <td>2</td>\n",
       "      <td>2</td>\n",
       "      <td>1</td>\n",
       "      <td>3</td>\n",
       "      <td>2</td>\n",
       "    </tr>\n",
       "  </tbody>\n",
       "</table>\n",
       "</div>"
      ],
      "text/plain": [
       "              Name Age Bracket  Gender       Ethnicity           Job Title  \\\n",
       "0         John Doe       25-34  Female           Asian     Product Manager   \n",
       "1       Jane Smith       18-24  Female  Middle Eastern  Operations Manager   \n",
       "2     Carlos Reyes       45-54  Female          Indian         UX Designer   \n",
       "3      Emily Zhang       35-44    Male       Caucasian         UX Designer   \n",
       "4  Michael Johnson       18-24  Female       Caucasian         UX Designer   \n",
       "\n",
       "            Department Date Survey Completed  Job Satisfaction  \\\n",
       "0  Product Development             10/5/2024                 2   \n",
       "1                Sales             10/7/2024                 4   \n",
       "2           Consulting             10/8/2024                 3   \n",
       "3                   HR             10/7/2024                 3   \n",
       "4  Product Development             10/7/2024                 4   \n",
       "\n",
       "   Work-Life Balance  Management Support  Team Collaboration  \\\n",
       "0                  5                   3                   3   \n",
       "1                  1                   5                   3   \n",
       "2                  1                   4                   2   \n",
       "3                  4                   4                   1   \n",
       "4                  5                   2                   3   \n",
       "\n",
       "   Workload Fairness  Career Development Opportunities  Workplace Inclusivity  \\\n",
       "0                  3                                 2                      4   \n",
       "1                  3                                 2                      3   \n",
       "2                  5                                 4                      4   \n",
       "3                  1                                 5                      4   \n",
       "4                  1                                 2                      2   \n",
       "\n",
       "   Company Communication  Compensation Satisfaction  Job Security  \\\n",
       "0                      5                          5             4   \n",
       "1                      3                          3             4   \n",
       "2                      1                          3             5   \n",
       "3                      1                          1             4   \n",
       "4                      2                          1             3   \n",
       "\n",
       "   Overall Engagement  \n",
       "0                   5  \n",
       "1                   3  \n",
       "2                   5  \n",
       "3                   3  \n",
       "4                   2  "
      ]
     },
     "execution_count": 11,
     "metadata": {},
     "output_type": "execute_result"
    }
   ],
   "source": [
    "data.head(5)"
   ]
  },
  {
   "cell_type": "markdown",
   "id": "14c9609d-5312-495c-8933-762569873a3f",
   "metadata": {},
   "source": [
    "### Descriptive Statistics:"
   ]
  },
  {
   "cell_type": "markdown",
   "id": "e7d72242-b4c0-4054-9eaa-c52fcf70f1c1",
   "metadata": {},
   "source": [
    "##### Descriptive Statistics for Overall Engagement: "
   ]
  },
  {
   "cell_type": "code",
   "execution_count": 12,
   "id": "2a9586ab-f1c0-4eb2-a3c2-5d89113a37c0",
   "metadata": {},
   "outputs": [
    {
     "data": {
      "text/plain": [
       "count    15.000000\n",
       "mean      3.400000\n",
       "std       1.298351\n",
       "min       1.000000\n",
       "25%       2.500000\n",
       "50%       3.000000\n",
       "75%       4.500000\n",
       "max       5.000000\n",
       "Name: Overall Engagement, dtype: float64"
      ]
     },
     "execution_count": 12,
     "metadata": {},
     "output_type": "execute_result"
    }
   ],
   "source": [
    "#Statistics of Overall Engagement: \n",
    "\n",
    "data['Overall Engagement'].describe()\n"
   ]
  },
  {
   "cell_type": "raw",
   "id": "b94f0bfe-3434-425f-ab44-23607204cfb0",
   "metadata": {},
   "source": [
    "Employees' involvement with the organization is generally neutral to slightly positive, according to the mean Overall involvement score of 3.4.\n",
    "\n",
    "There is some variation in the degree of involvement that various employees experience, as indicated by the standard deviation of 1.3, which displays a modest spread of engagement levels.\n",
    "\n",
    "Half of the employees had engagement levels between 2.5 (below neutral) and 4.5 (above neutral), with a median of 3.0, according to the 25th percentile (2.5) and 75th percentile (4.5)."
   ]
  },
  {
   "cell_type": "markdown",
   "id": "b74e9be6-4f0d-4458-91ba-ea704c49e4a8",
   "metadata": {},
   "source": [
    "##### Descriptive Statistics for Job Satisfaction: "
   ]
  },
  {
   "cell_type": "code",
   "execution_count": 13,
   "id": "c6d7147d-a168-420f-bc24-c6c860bb7683",
   "metadata": {},
   "outputs": [
    {
     "name": "stdout",
     "output_type": "stream",
     "text": [
      "count    15.000000\n",
      "mean      3.000000\n",
      "std       1.309307\n",
      "min       1.000000\n",
      "25%       2.000000\n",
      "50%       3.000000\n",
      "75%       4.000000\n",
      "max       5.000000\n",
      "Name: Job Satisfaction, dtype: float64\n"
     ]
    }
   ],
   "source": [
    "# Statistics of Job Satisfaction:\n",
    "\n",
    "print(data['Job Satisfaction'].describe())"
   ]
  },
  {
   "cell_type": "raw",
   "id": "6384bab5-817f-4243-8e4b-7845a77d9cef",
   "metadata": {},
   "source": [
    "With an average job satisfaction score of 3.0, workers are generally indifferent to their level of job happiness.\n",
    "\n",
    "A wide range of employee experiences are reflected in the standard deviation of 1.31, which indicates a moderate variability in satisfaction levels with ratings ranging from 1 (extremely dissatisfied) to 5 (very delighted)."
   ]
  },
  {
   "cell_type": "markdown",
   "id": "1ce559b6-0a55-4589-a059-30bc40eebf75",
   "metadata": {},
   "source": [
    "##### Key Trends: "
   ]
  },
  {
   "cell_type": "markdown",
   "id": "6fdd5e3f-c2ba-4592-8b70-9ab11e258a02",
   "metadata": {},
   "source": [
    "###### Trend by Department:"
   ]
  },
  {
   "cell_type": "code",
   "execution_count": 14,
   "id": "5d6f537b-24d6-4afb-8466-da0c8f1e619e",
   "metadata": {},
   "outputs": [
    {
     "name": "stdout",
     "output_type": "stream",
     "text": [
      "Trend by:Department\n",
      "Consulting             3.000000\n",
      "Design                 5.000000\n",
      "Finance                4.000000\n",
      "HR                     4.000000\n",
      "IT                     1.000000\n",
      "Operations             2.000000\n",
      "Product Development    2.666667\n",
      "Sales                  2.750000\n",
      "Name: Job Satisfaction, dtype: float64\n"
     ]
    }
   ],
   "source": [
    "trend_by_department = data.groupby('Department')['Job Satisfaction'].mean()\n",
    "\n",
    "print(F'Trend by:{trend_by_department}')"
   ]
  },
  {
   "cell_type": "raw",
   "id": "bdd13ebc-956e-4746-832b-933de00de45f",
   "metadata": {},
   "source": [
    "With average job satisfaction scores of 5.0 and 4.0, respectively, design and HR departments have the greatest levels of job satisfaction among employees.\n",
    "\n",
    "Significant dissatisfaction among employees is shown by the IT department's lowest average job satisfaction score of 1.0.\n",
    "\n",
    "Additionally, with scores below 3, Operations and Product Development demonstrate comparatively lower levels of satisfaction, indicating that these divisions  require focused efforts to improve employee satisfaction."
   ]
  },
  {
   "cell_type": "markdown",
   "id": "0ce778fe-cb35-4706-abe1-bab194590a44",
   "metadata": {},
   "source": [
    "###### Trend of Demograohic feature vs Job Satisfaction:"
   ]
  },
  {
   "cell_type": "code",
   "execution_count": 15,
   "id": "77344561-d1a4-4488-b241-0ea930fd6a03",
   "metadata": {},
   "outputs": [
    {
     "name": "stdout",
     "output_type": "stream",
     "text": [
      "Trend by:Age Bracket\n",
      "18-24    3.428571\n",
      "25-34    3.000000\n",
      "35-44    2.000000\n",
      "45-54    2.666667\n",
      "Name: Job Satisfaction, dtype: float64\n",
      "Trend by:Gender\n",
      "Female    2.777778\n",
      "Male      3.333333\n",
      "Name: Job Satisfaction, dtype: float64\n",
      "Trend by:Ethnicity\n",
      "African American    3.500000\n",
      "Asian               2.500000\n",
      "Caucasian           4.000000\n",
      "Hispanic            4.000000\n",
      "Indian              1.666667\n",
      "Middle Eastern      3.000000\n",
      "Name: Job Satisfaction, dtype: float64\n"
     ]
    }
   ],
   "source": [
    "# Trend by Age Bracket:\n",
    "\n",
    "for i in Demographic_feature:\n",
    "\n",
    "    trend_by_age = data.groupby(i)['Job Satisfaction'].mean()\n",
    "    \n",
    "    print(F'Trend by:{trend_by_age}')"
   ]
  },
  {
   "cell_type": "raw",
   "id": "85052fb9-1fd6-4053-bd98-0333f7628867",
   "metadata": {},
   "source": [
    "Age Bracket: The Age Bracket group of 18-24 has the highest level of satisfaction with score of 3.42. Where as the Age Bracket group of 35-44 seems to have lowest average job satisfaction score of 2.0. \n",
    "\n",
    "Gender: Male employees report higher job satisfaction (3.33) compared to female employees (2.78), suggesting a potential disparity in work experiences between genders.\n",
    "\n",
    "Ethnicity: Hispanic and Caucasian employees show the highest job satisfaction (4.0), while Indian employees report significantly lower satisfaction (1.67), indicating differences in job satisfaction across ethnic groups that may require attention."
   ]
  },
  {
   "cell_type": "markdown",
   "id": "0f06460b-9511-4288-ace1-5c74a40f6f88",
   "metadata": {},
   "source": [
    "###### Trend by Demographic features vs Work-Life Balance, Compensation Sastisfaction"
   ]
  },
  {
   "cell_type": "code",
   "execution_count": 16,
   "id": "48eb5707-71b3-49d3-8c26-1c7bae3e6634",
   "metadata": {},
   "outputs": [
    {
     "name": "stdout",
     "output_type": "stream",
     "text": [
      "             Work-Life Balance\n",
      "Age Bracket                   \n",
      "18-24                 3.142857\n",
      "25-34                 4.666667\n",
      "35-44                 4.500000\n",
      "45-54                 1.666667\n",
      "        Work-Life Balance\n",
      "Gender                   \n",
      "Female           3.111111\n",
      "Male             3.666667\n",
      "                  Work-Life Balance\n",
      "Ethnicity                          \n",
      "African American           4.500000\n",
      "Asian                      4.000000\n",
      "Caucasian                  4.666667\n",
      "Hispanic                   1.000000\n",
      "Indian                     2.666667\n",
      "Middle Eastern             2.500000\n"
     ]
    }
   ],
   "source": [
    "for i in Demographic_feature:\n",
    "    demo = data.groupby(i)[['Work-Life Balance']].mean()\n",
    "    print(F'{demo}')"
   ]
  },
  {
   "cell_type": "raw",
   "id": "870df4e8-f142-4012-b56e-44bda3b6fb41",
   "metadata": {},
   "source": [
    "# Age Bracket:\n",
    "Workers in the 25–34 and 35–44 age groups report the highest levels of work-life balance satisfaction (4.67 and 4.5), while those in the 45–54 age group report the lowest levels (1.67), indicating that older workers may have trouble striking a balance.\n",
    "All age groups had relatively low compensation satisfaction, with 25–34 years old having the highest satisfaction (3.33), however it is still not very high.\n",
    "\n",
    "# Gender: \n",
    "Male employees report a somewhat better work-life balance (3.67) than female employees (3.11), which may indicate that men are under less pressure to balance work and life.\n",
    "The Compensation Satisfaction score of female employees is higher (2.89) than that of male employees (2.50), suggesting that women view pay fairness to be slightly greater.\n",
    "\n",
    "# Ethnicity:\n",
    "Caucasian employees were the highest Work-Life Balance (4.67), while Hispanic employees have the lowest (1.0), indicating potential discrepancies in how different ethnic groups handle work-life integration.\n",
    "Compensation Satisfaction is highest among Asian (3.5) and Indian (3.33) employees, while Caucasians have the lowest (1.67), indicating unhappiness with pay among the latter."
   ]
  },
  {
   "cell_type": "markdown",
   "id": "f024c2ac-5e43-455d-9eab-3c0a86a48c54",
   "metadata": {},
   "source": [
    "### Inferential Statistics:"
   ]
  },
  {
   "cell_type": "code",
   "execution_count": 17,
   "id": "a8f5585e-416c-4c6f-b5e1-0c779933eacb",
   "metadata": {},
   "outputs": [],
   "source": [
    "# Filtering data for departments: IT, HR, Design and Sales: \n",
    "\n",
    "it_data = data[data['Department'] == 'IT']['Job Satisfaction']\n",
    "\n",
    "hr_data = data[data['Department'] == 'HR']['Job Satisfaction']\n",
    "\n",
    "design_data = data[data['Department'] == 'Design']['Work-Life Balance']\n",
    "\n",
    "sales_data = data[data['Department'] == 'Sales']['Work-Life Balance']"
   ]
  },
  {
   "cell_type": "raw",
   "id": "dff19fe0-0a1e-4cfa-b7f1-5fbd31d26a88",
   "metadata": {},
   "source": [
    "# Independent t-test: It is a statistical method used to determine whether there is a significant difference between the means of two independent groups. So, will perform the independent t-test to see if there's a statistically significant difference in Job Satisfaction between two specific departments."
   ]
  },
  {
   "cell_type": "code",
   "execution_count": 18,
   "id": "7b60df21-c9f0-45d7-94de-52ba003b619e",
   "metadata": {},
   "outputs": [],
   "source": [
    "# Job Satisfaction- IT and HR "
   ]
  },
  {
   "cell_type": "code",
   "execution_count": 19,
   "id": "56fe2c25-70ff-467a-82ea-a0e1cc745d89",
   "metadata": {},
   "outputs": [
    {
     "name": "stdout",
     "output_type": "stream",
     "text": [
      "T-statistic: -1.7320508075688774, P-value: 0.33333333333333326\n",
      "There is no significant difference in Job Satisfaction between IT and HR.\n"
     ]
    }
   ],
   "source": [
    "# H0(Null Hypothesis): There is no significant difference between the two group means (i.e., the mean job satisfaction for IT and HR is the same.) \n",
    "\n",
    "# H1(Alternative Hypothesis): There is a significant difference between the two group means (i.e., the mean job satisfaction for IT is different from HR).\n",
    "\n",
    "t_stat, p_value = stats.ttest_ind(it_data, hr_data)\n",
    "\n",
    "print(f\"T-statistic: {t_stat}, P-value: {p_value}\")\n",
    "if p_value < 0.05:\n",
    "    print(\"There is difference in Job Satisfaction between IT and HR is statistically significant.\")\n",
    "else:\n",
    "    print(\"There is no significant difference in Job Satisfaction between IT and HR.\")"
   ]
  },
  {
   "cell_type": "code",
   "execution_count": 20,
   "id": "42c9741f-d5e0-4115-b69f-03c731cd3611",
   "metadata": {},
   "outputs": [],
   "source": [
    "# Work-Life Balance- Sales and Design "
   ]
  },
  {
   "cell_type": "code",
   "execution_count": 21,
   "id": "f599a498-fe6c-4883-9ee0-3db9ecc2bb3b",
   "metadata": {},
   "outputs": [
    {
     "name": "stdout",
     "output_type": "stream",
     "text": [
      "T-statistic: -1.8973665961010275, P-value: 0.15403090300093614\n",
      "There is no significant difference in Work Life Balance between Sales and Design.\n"
     ]
    }
   ],
   "source": [
    "# H0(Null Hypothesis): There is no significant difference between the two group means (i.e., the mean Work Life Balance for Sales and Design is the same.) \n",
    "\n",
    "# H1(Alternative Hypothesis): There is a significant difference between the two group means (i.e., the mean Work Life Balance for Sales is different from Design).\n",
    "\n",
    "t_stat, p_value = stats.ttest_ind(sales_data, design_data)\n",
    "print(f\"T-statistic: {t_stat}, P-value: {p_value}\")\n",
    "if p_value < 0.05:\n",
    "    print(\"There is difference in Work Life Balance between Sales and Design is statistically significant.\")\n",
    "else:\n",
    "    print(\"There is no significant difference in Work Life Balance between Sales and Design.\")"
   ]
  },
  {
   "cell_type": "markdown",
   "id": "6f617b1b-0843-4778-848f-b3bcf8defae9",
   "metadata": {},
   "source": [
    "### Correlation analysis:"
   ]
  },
  {
   "cell_type": "code",
   "execution_count": 22,
   "id": "5916dd91-12b6-4c78-9747-9887550fc01f",
   "metadata": {},
   "outputs": [],
   "source": [
    "df1 = data[['Job Satisfaction', 'Work-Life Balance','Management Support',\n",
    " 'Team Collaboration','Workload Fairness','Career Development Opportunities',\n",
    " 'Workplace Inclusivity', 'Company Communication', 'Compensation Satisfaction', 'Job Security', 'Overall Engagement']]"
   ]
  },
  {
   "cell_type": "code",
   "execution_count": 23,
   "id": "275cdb9e-bbb6-42d3-b43e-539fdd8175c1",
   "metadata": {},
   "outputs": [
    {
     "data": {
      "image/png": "[encoded data removed]",
      "text/plain": [
       "<Figure size 800x800 with 2 Axes>"
      ]
     },
     "metadata": {},
     "output_type": "display_data"
    }
   ],
   "source": [
    "plt.figure(figsize=(8,8))\n",
    "sns.heatmap(data=df1.corr(),annot = True, vmax=1,vmin=-1)\n",
    "plt.show()"
   ]
  },
  {
   "cell_type": "code",
   "execution_count": 24,
   "id": "52654cc7-3b5c-4415-8632-81ca1893d598",
   "metadata": {},
   "outputs": [
    {
     "name": "stdout",
     "output_type": "stream",
     "text": [
      "Correlation between Work-Life Balance and Overall Engagement: -0.361040820409166\n",
      "Negative correlation: As Work-Life Balance improves, Overall Engagement tends to decrease.\n"
     ]
    }
   ],
   "source": [
    "# Calculating the correlation between Work-Life Balance and Overall Engagement:\n",
    "corr = data['Work-Life Balance'].corr(data['Overall Engagement'])\n",
    "\n",
    "# Correlation result\n",
    "print(f\"Correlation between Work-Life Balance and Overall Engagement: {corr}\")\n",
    "\n",
    "if corr > 0:\n",
    "    print(\"Positive correlation: As Work-Life Balance improves, Overall Engagement tends to increase.\")\n",
    "elif corr < 0:\n",
    "    print(\"Negative correlation: As Work-Life Balance improves, Overall Engagement tends to decrease.\")\n",
    "else:\n",
    "    print(\"No correlation between Work-Life Balance and Overall Engagement.\")\n"
   ]
  },
  {
   "cell_type": "raw",
   "id": "d72bcdb6-865d-45ff-83a6-b68a9b70b4d4",
   "metadata": {},
   "source": [
    "A negative correlation suggests that as Work-Life Balance improves, Overall Engagement decreases. Its means employees who focus more on personal life may feel less engaged at work. "
   ]
  }
 ],
 "metadata": {
  "kernelspec": {
   "display_name": "Python 3 (ipykernel)",
   "language": "python",
   "name": "python3"
  },
  "language_info": {
   "codemirror_mode": {
    "name": "ipython",
    "version": 3
   },
   "file_extension": ".py",
   "mimetype": "text/x-python",
   "name": "python",
   "nbconvert_exporter": "python",
   "pygments_lexer": "ipython3",
   "version": "3.12.6"
  }
 },
 "nbformat": 4,
 "nbformat_minor": 5
}
